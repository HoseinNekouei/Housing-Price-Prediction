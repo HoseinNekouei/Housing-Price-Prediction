{
  "nbformat": 4,
  "nbformat_minor": 0,
  "metadata": {
    "colab": {
      "provenance": [],
      "authorship_tag": "ABX9TyPk9BuYR4UUrdOaouscbXTZ",
      "include_colab_link": true
    },
    "kernelspec": {
      "name": "python3",
      "display_name": "Python 3"
    },
    "language_info": {
      "name": "python"
    }
  },
  "cells": [
    {
      "cell_type": "markdown",
      "metadata": {
        "id": "view-in-github",
        "colab_type": "text"
      },
      "source": [
        "<a href=\"https://colab.research.google.com/github/HoseinNekouei/Housing-Price-Prediction/blob/main/housin_price_prediction.ipynb\" target=\"_parent\"><img src=\"https://colab.research.google.com/assets/colab-badge.svg\" alt=\"Open In Colab\"/></a>"
      ]
    },
    {
      "cell_type": "markdown",
      "source": [
        "# **Preprocess Dataset**"
      ],
      "metadata": {
        "id": "jslmfDRA-yAm"
      }
    },
    {
      "cell_type": "code",
      "source": [
        "from google.colab import drive\n",
        "import pandas as pd\n",
        "import numpy as np\n",
        "from sklearn.model_selection import train_test_split\n",
        "from sklearn.preprocessing import StandardScaler, OneHotEncoder\n",
        "from sklearn.linear_model import SGDRegressor\n",
        "from sklearn.metrics import mean_absolute_percentage_error,  mean_absolute_error, r2_score"
      ],
      "metadata": {
        "id": "giMD5RPj_kOW"
      },
      "execution_count": 15,
      "outputs": []
    },
    {
      "cell_type": "code",
      "source": [
        "# Review the uploaded file and provided detail information\n",
        "drive.mount('/content/drive')\n",
        "df = pd.read_csv('/content/drive/MyDrive/dataset/data.csv', sep=',')\n",
        "\n",
        "df.info()"
      ],
      "metadata": {
        "id": "cuwi7p6YaVg1",
        "outputId": "8a50e320-06c4-4c68-f914-6fb61babd07a",
        "colab": {
          "base_uri": "https://localhost:8080/"
        }
      },
      "execution_count": 2,
      "outputs": [
        {
          "output_type": "stream",
          "name": "stdout",
          "text": [
            "Drive already mounted at /content/drive; to attempt to forcibly remount, call drive.mount(\"/content/drive\", force_remount=True).\n",
            "<class 'pandas.core.frame.DataFrame'>\n",
            "RangeIndex: 22676 entries, 0 to 22675\n",
            "Data columns (total 12 columns):\n",
            " #   Column            Non-Null Count  Dtype  \n",
            "---  ------            --------------  -----  \n",
            " 0   Price             22676 non-null  int64  \n",
            " 1   Apartment type    22676 non-null  object \n",
            " 2   Metro station     22676 non-null  object \n",
            " 3   Minutes to metro  22676 non-null  int64  \n",
            " 4   Region            22676 non-null  object \n",
            " 5   Number of rooms   22676 non-null  int64  \n",
            " 6   Area              22676 non-null  float64\n",
            " 7   Living area       22676 non-null  float64\n",
            " 8   Kitchen area      22676 non-null  float64\n",
            " 9   Floor             22676 non-null  int64  \n",
            " 10  Number of floors  22676 non-null  int64  \n",
            " 11  Renovation        22676 non-null  object \n",
            "dtypes: float64(3), int64(5), object(4)\n",
            "memory usage: 2.1+ MB\n"
          ]
        }
      ]
    },
    {
      "cell_type": "code",
      "source": [
        "\n",
        "def load_house_attributes():\n",
        "\n",
        "  metro_station = df['Metro station'].value_counts().keys().tolist()\n",
        "  counts = df['Metro station'].value_counts().tolist()\n",
        "\n",
        "  for (metro_st, count) in zip(metro_station, counts):\n",
        "    if count < 500:\n",
        "      idx = df[df['Metro station']== metro_st].index\n",
        "      df.drop(idx, inplace= True)\n",
        "\n",
        "  train, test = train_test_split(df, test_size = 0.25, random_state = 42)\n",
        "\n",
        "  return train, test\n",
        "\n",
        "\n",
        "train, test = load_house_attributes()\n",
        "\n",
        "print(f'shape of train data: {train.shape}')\n",
        "print(f'shape of test data: {test.shape}')\n",
        "print('----------')\n",
        "print(f'the first record of train dataset is:\\n {train.iloc[0]}')"
      ],
      "metadata": {
        "colab": {
          "base_uri": "https://localhost:8080/"
        },
        "id": "LRMYIPnM_EJY",
        "outputId": "10ae33a6-8505-45d2-a0c6-0e6d014edeb1"
      },
      "execution_count": 3,
      "outputs": [
        {
          "output_type": "stream",
          "name": "stdout",
          "text": [
            "shape of train data: (5946, 12)\n",
            "shape of test data: (1982, 12)\n",
            "----------\n",
            "the first record of train dataset is:\n",
            " Price                         5985718\n",
            "Apartment type           New building\n",
            "Metro station       Красногвардейская\n",
            "Minutes to metro                   13\n",
            "Region                  Moscow region\n",
            "Number of rooms                     1\n",
            "Area                            47.71\n",
            "Living area                      26.3\n",
            "Kitchen area                     10.6\n",
            "Floor                               5\n",
            "Number of floors                   20\n",
            "Renovation                   Cosmetic\n",
            "Name: 19520, dtype: object\n"
          ]
        }
      ]
    },
    {
      "cell_type": "code",
      "source": [
        "# normalize attributes\n",
        "def preprocess_house_attributes(train, test):\n",
        "\n",
        "  nomerical_data = ['Number of rooms','Area','Living area', 'Kitchen area',\\\n",
        "                    'Floor','Number of floors','Minutes to metro']\n",
        "\n",
        "  # Normalized the nomerical data\n",
        "  sc = StandardScaler()\n",
        "\n",
        "  train_nomerical = sc.fit_transform(train[nomerical_data])\n",
        "  test_nomerical = sc.transform(test[nomerical_data])\n",
        "\n",
        "  print(f'the first record of the normalized train data:\\n{train_nomerical[0]}')\n",
        "  print(f'\\nShape of the normalized test data: {test_nomerical.shape}')\n",
        "\n",
        "  categorical_data = ['Apartment type', 'Metro station', 'Region','Renovation']\n",
        "\n",
        "  # Normalized the categorical data\n",
        "  one_hot_encoder = OneHotEncoder(sparse_output= False)\n",
        "\n",
        "  train_categorical = one_hot_encoder.fit_transform(train[categorical_data])\n",
        "  test_categorical = one_hot_encoder.transform(test[categorical_data])\n",
        "\n",
        "  # Concatenate two vectors horizontally\n",
        "  x_train = np.hstack([train_nomerical, train_categorical])\n",
        "  x_test  = np.hstack([test_nomerical, test_categorical])\n",
        "\n",
        "  print(f'shape of x_train: {x_train.shape}')\n",
        "  print(f'shape of x_train: {x_test.shape}')\n",
        "\n",
        "  return x_train, x_test\n",
        "\n",
        "x_train, x_test = preprocess_house_attributes(train, test)"
      ],
      "metadata": {
        "id": "0y09uh1UHszi",
        "outputId": "a1c046b9-9710-440f-e4c1-d9337c1c90eb",
        "colab": {
          "base_uri": "https://localhost:8080/"
        }
      },
      "execution_count": 4,
      "outputs": [
        {
          "output_type": "stream",
          "name": "stdout",
          "text": [
            "the first record of the normalized train data:\n",
            "[-0.61899007 -0.06908953  0.06355223 -0.02898586 -0.90413926  1.14383518\n",
            "  0.17281351]\n",
            "\n",
            "Shape of the normalized test data: (1982, 7)\n",
            "shape of x_train: (5946, 21)\n",
            "shape of x_train: (1982, 21)\n"
          ]
        }
      ]
    },
    {
      "cell_type": "code",
      "source": [
        "# Normalize Labels\n",
        "\n",
        "def preprocess_house_label(train, test):\n",
        "\n",
        "  print('This is a test for data accuracy',train['Price'].iloc[0])\n",
        "  max_price = train['Price'].max()\n",
        "  y_train = train['Price'] / max_price\n",
        "  y_test = test['Price'] / max_price\n",
        "\n",
        "  return y_train, y_test\n",
        "\n",
        "y_train, y_test = preprocess_house_label(train, test)\n",
        "print(f'This is a test for data accuracy after label normalized: {y_train.iloc[0]}')"
      ],
      "metadata": {
        "colab": {
          "base_uri": "https://localhost:8080/"
        },
        "id": "Wa4GNmFHmpLq",
        "outputId": "e36979e6-0bc5-41e2-f033-4de1ddf05309"
      },
      "execution_count": 5,
      "outputs": [
        {
          "output_type": "stream",
          "name": "stdout",
          "text": [
            "This is a test for data accuracy 5985718\n",
            "This is a test for data accuracy after label normalized: 0.1312657456140351\n"
          ]
        }
      ]
    },
    {
      "cell_type": "code",
      "source": [
        "def algorithm(x_train, y_train):\n",
        "\n",
        "  model = SGDRegressor(tol=0.00001)\n",
        "\n",
        "  model.fit(x_train, y_train)\n",
        "  print(model.n_iter_)\n",
        "\n",
        "  return model\n",
        "\n",
        "model = algorithm(x_train, y_train)"
      ],
      "metadata": {
        "colab": {
          "base_uri": "https://localhost:8080/"
        },
        "id": "oTwOA7j4snVz",
        "outputId": "b2ab4535-2315-4be9-e25b-98d3ce4da453"
      },
      "execution_count": 6,
      "outputs": [
        {
          "output_type": "stream",
          "name": "stdout",
          "text": [
            "13\n"
          ]
        }
      ]
    },
    {
      "cell_type": "code",
      "source": [
        "def show_results():\n",
        "\n",
        "  y_pred = model.predict(x_test)\n",
        "\n",
        "  MAPE = mean_absolute_percentage_error(y_test, y_pred)\n",
        "\n",
        "  MAE = mean_absolute_error(y_test, y_pred)\n",
        "  R2_SCORE = r2_score(y_test, y_pred)\n",
        "\n",
        "  print(f'MAPE: {(MAPE * 100):.2f} %')\n",
        "  print(f'MAE: {(MAE * 100):.2f} %')\n",
        "  print(f'R2_Score: {(R2_SCORE * 100):.2f} %')\n",
        "\n",
        "show_results()"
      ],
      "metadata": {
        "colab": {
          "base_uri": "https://localhost:8080/"
        },
        "id": "VO3IHpDHtLJM",
        "outputId": "f2961a83-fefd-49c2-8475-a437a6490fec"
      },
      "execution_count": 19,
      "outputs": [
        {
          "output_type": "stream",
          "name": "stdout",
          "text": [
            "MAPE: 9.23 %\n",
            "MAE: 1.47 %\n",
            "R2_Score: 85.22 %\n"
          ]
        }
      ]
    }
  ]
}