{
  "nbformat": 4,
  "nbformat_minor": 0,
  "metadata": {
    "colab": {
      "provenance": [],
      "authorship_tag": "ABX9TyOpFtT6fAhZDfl4e6Wq1CcL",
      "include_colab_link": true
    },
    "kernelspec": {
      "name": "python3",
      "display_name": "Python 3"
    },
    "language_info": {
      "name": "python"
    }
  },
  "cells": [
    {
      "cell_type": "markdown",
      "metadata": {
        "id": "view-in-github",
        "colab_type": "text"
      },
      "source": [
        "<a href=\"https://colab.research.google.com/github/HoseinNekouei/Housing-Price-Prediction/blob/main/housin_price_prediction.ipynb\" target=\"_parent\"><img src=\"https://colab.research.google.com/assets/colab-badge.svg\" alt=\"Open In Colab\"/></a>"
      ]
    },
    {
      "cell_type": "markdown",
      "source": [
        "# **Preprocess Dataset**"
      ],
      "metadata": {
        "id": "jslmfDRA-yAm"
      }
    },
    {
      "cell_type": "code",
      "source": [
        "from google.colab import drive\n",
        "import pandas as pd\n",
        "import numpy as np\n",
        "from sklearn.model_selection import train_test_split\n",
        "from sklearn.preprocessing import StandardScaler, LabelBinarizer"
      ],
      "metadata": {
        "id": "giMD5RPj_kOW"
      },
      "execution_count": 29,
      "outputs": []
    },
    {
      "cell_type": "code",
      "source": [
        "# Review the uploaded file and provided detail information\n",
        "drive.mount('/content/drive')\n",
        "df = pd.read_csv('/content/drive/MyDrive/dataset/data.csv')\n",
        "\n",
        "df.info()"
      ],
      "metadata": {
        "colab": {
          "base_uri": "https://localhost:8080/"
        },
        "id": "cuwi7p6YaVg1",
        "outputId": "b2b59f7a-34cb-4aab-89f2-20fb165cfe60"
      },
      "execution_count": 7,
      "outputs": [
        {
          "output_type": "stream",
          "name": "stdout",
          "text": [
            "<class 'pandas.core.frame.DataFrame'>\n",
            "RangeIndex: 22676 entries, 0 to 22675\n",
            "Data columns (total 12 columns):\n",
            " #   Column            Non-Null Count  Dtype  \n",
            "---  ------            --------------  -----  \n",
            " 0   Price             22676 non-null  int64  \n",
            " 1   Apartment type    22676 non-null  object \n",
            " 2   Metro station     22676 non-null  object \n",
            " 3   Minutes to metro  22676 non-null  int64  \n",
            " 4   Region            22676 non-null  object \n",
            " 5   Number of rooms   22676 non-null  int64  \n",
            " 6   Area              22676 non-null  float64\n",
            " 7   Living area       22676 non-null  float64\n",
            " 8   Kitchen area      22676 non-null  float64\n",
            " 9   Floor             22676 non-null  int64  \n",
            " 10  Number of floors  22676 non-null  int64  \n",
            " 11  Renovation        22676 non-null  object \n",
            "dtypes: float64(3), int64(5), object(4)\n",
            "memory usage: 2.1+ MB\n"
          ]
        }
      ]
    },
    {
      "cell_type": "code",
      "source": [
        "df.loc[1]"
      ],
      "metadata": {
        "colab": {
          "base_uri": "https://localhost:8080/"
        },
        "id": "fIm5vIzKgO6W",
        "outputId": "ca831360-1e6e-4475-db18-6d014ea314fb"
      },
      "execution_count": 27,
      "outputs": [
        {
          "output_type": "execute_result",
          "data": {
            "text/plain": [
              "Price                                 9000000\n",
              "Apartment type                      Secondary\n",
              "Metro station                         Павшино\n",
              "Minutes to metro                            2\n",
              "Region                          Moscow region\n",
              "Number of rooms                             1\n",
              "Area                                     49.2\n",
              "Living area                              20.0\n",
              "Kitchen area                             10.0\n",
              "Floor                                       6\n",
              "Number of floors                           15\n",
              "Renovation          European-style renovation\n",
              "Name: 1, dtype: object"
            ]
          },
          "metadata": {},
          "execution_count": 27
        }
      ]
    },
    {
      "cell_type": "code",
      "source": [
        "\n",
        "def load_house_attributes():\n",
        "\n",
        "  metro_station = df['Metro station'].value_counts().keys().tolist()\n",
        "  counts = df['Metro station'].value_counts().tolist()\n",
        "\n",
        "  for (metro_st, count) in zip(metro_station, counts):\n",
        "    if count < 30:\n",
        "      idx = df[df['Metro station']== metro_st].index\n",
        "      df.drop(idx, inplace= True)\n",
        "\n",
        "  train, test = train_test_split(df, test_size = 0.25, random_state = 42)\n",
        "\n",
        "  return train, test\n",
        "\n",
        "\n",
        "train, test = load_house_attributes()\n",
        "\n",
        "print(f'shape of train data: {train.shape}')\n",
        "print(f'shape of test data: {test.shape}')"
      ],
      "metadata": {
        "colab": {
          "base_uri": "https://localhost:8080/"
        },
        "id": "LRMYIPnM_EJY",
        "outputId": "abf31978-3c1f-449c-a689-d79d9324983d"
      },
      "execution_count": 26,
      "outputs": [
        {
          "output_type": "stream",
          "name": "stdout",
          "text": [
            "shape of train data: (13962, 12)\n",
            "shape of test data: (4655, 12)\n"
          ]
        }
      ]
    },
    {
      "cell_type": "code",
      "source": [
        "# normalize attributes\n",
        "def preprocess_house_attributes(tarin, test):\n",
        "\n",
        "  nomerical_data = ['Number of rooms','Area','Living area', 'Kitchen area',\\\n",
        "                    'Floor','Number of floors','Minutes to metro']\n",
        "\n",
        "  # Normalized the nomerical data\n",
        "  sc = StandardScaler()\n",
        "\n",
        "  train_nomerical = sc.fit_transform(train[nomerical_data])\n",
        "  test_nomerical = sc.transform(test[nomerical_data])\n",
        "\n",
        "  print(f'the first record of the normalized train data:\\n{train_nomerical[0]}')\n",
        "  print(f'\\nShape of the normalized test data: {test_nomerical.shape}')\n",
        "\n",
        "  categorical_data = ['Apartment type', 'Metro station', 'Region','Renovation']\n",
        "\n",
        "  # Normalized the categorical data\n",
        "  label_binarize_encoder = LabelBinarizer()\n",
        "\n",
        "  train_categorical = label_binarize_encoder.fit_transform(train[categorical_data])\n",
        "  test_categorical = label_binarize_encoder.transform(test[categorical_data])\n",
        "\n",
        "  # concatenate horizantal two vectors\n",
        "  x_train = np.hstack([train_nomerical, train_categorical])\n",
        "  x_test = np.hstack([test_nomerical, train_categorical])\n",
        "\n",
        "\n",
        "preprocess_house_attributes(train, test)\n"
      ],
      "metadata": {
        "id": "0y09uh1UHszi",
        "colab": {
          "base_uri": "https://localhost:8080/"
        },
        "outputId": "ca1530ac-6571-4c31-b040-f7180c722f2e"
      },
      "execution_count": 40,
      "outputs": [
        {
          "output_type": "stream",
          "name": "stdout",
          "text": [
            "the first record of the normalized train data:\n",
            "[-0.67282059 -0.5581135  -0.85477556  0.87891391 -0.04049937 -0.82789488]\n",
            "\n",
            "Shape of the normalized test data: (4655, 6)\n"
          ]
        }
      ]
    }
  ]
}