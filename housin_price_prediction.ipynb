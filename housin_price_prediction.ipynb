{
  "nbformat": 4,
  "nbformat_minor": 0,
  "metadata": {
    "colab": {
      "provenance": [],
      "authorship_tag": "ABX9TyOatsMSMvaUZRwETVnxHl76",
      "include_colab_link": true
    },
    "kernelspec": {
      "name": "python3",
      "display_name": "Python 3"
    },
    "language_info": {
      "name": "python"
    }
  },
  "cells": [
    {
      "cell_type": "markdown",
      "metadata": {
        "id": "view-in-github",
        "colab_type": "text"
      },
      "source": [
        "<a href=\"https://colab.research.google.com/github/HoseinNekouei/Housing-Price-Prediction/blob/main/housin_price_prediction.ipynb\" target=\"_parent\"><img src=\"https://colab.research.google.com/assets/colab-badge.svg\" alt=\"Open In Colab\"/></a>"
      ]
    },
    {
      "cell_type": "code",
      "execution_count": null,
      "metadata": {
        "id": "ztTIOxKs-jVA"
      },
      "outputs": [],
      "source": []
    },
    {
      "cell_type": "markdown",
      "source": [
        "# **Preprocess Dataset**"
      ],
      "metadata": {
        "id": "jslmfDRA-yAm"
      }
    },
    {
      "cell_type": "code",
      "source": [
        "from google.colab import drive\n",
        "import pandas as pd\n",
        "import numpy as np\n",
        "drive.mount('/content/drive')"
      ],
      "metadata": {
        "id": "giMD5RPj_kOW"
      },
      "execution_count": 21,
      "outputs": []
    },
    {
      "cell_type": "code",
      "source": [
        "# Review the uploaded file and provided detail information\n"
      ],
      "metadata": {
        "id": "OKPcj9Z0BCWg"
      },
      "execution_count": null,
      "outputs": []
    },
    {
      "cell_type": "code",
      "source": [
        "def load_house_attributes():\n",
        "\n",
        "  df = pd.read_csv('/content/drive/MyDrive/dataset/data.csv')\n",
        "\n",
        "  print(df.info())\n",
        "\n",
        "\n",
        "load_house_attributes()"
      ],
      "metadata": {
        "colab": {
          "base_uri": "https://localhost:8080/"
        },
        "id": "LRMYIPnM_EJY",
        "outputId": "d6a67b6a-4462-4f1c-cd72-83782f9a866e"
      },
      "execution_count": 31,
      "outputs": [
        {
          "output_type": "stream",
          "name": "stdout",
          "text": [
            "<class 'pandas.core.frame.DataFrame'>\n",
            "RangeIndex: 22676 entries, 0 to 22675\n",
            "Data columns (total 12 columns):\n",
            " #   Column            Non-Null Count  Dtype  \n",
            "---  ------            --------------  -----  \n",
            " 0   Price             22676 non-null  int64  \n",
            " 1   Apartment type    22676 non-null  object \n",
            " 2   Metro station     22676 non-null  object \n",
            " 3   Minutes to metro  22676 non-null  int64  \n",
            " 4   Region            22676 non-null  object \n",
            " 5   Number of rooms   22676 non-null  int64  \n",
            " 6   Area              22676 non-null  float64\n",
            " 7   Living area       22676 non-null  float64\n",
            " 8   Kitchen area      22676 non-null  float64\n",
            " 9   Floor             22676 non-null  int64  \n",
            " 10  Number of floors  22676 non-null  int64  \n",
            " 11  Renovation        22676 non-null  object \n",
            "dtypes: float64(3), int64(5), object(4)\n",
            "memory usage: 2.1+ MB\n",
            "None\n"
          ]
        }
      ]
    },
    {
      "cell_type": "code",
      "source": [
        ""
      ],
      "metadata": {
        "id": "0y09uh1UHszi"
      },
      "execution_count": null,
      "outputs": []
    }
  ]
}